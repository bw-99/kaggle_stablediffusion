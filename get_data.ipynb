{
 "cells": [
  {
   "cell_type": "code",
   "execution_count": 14,
   "metadata": {},
   "outputs": [
    {
     "name": "stdout",
     "output_type": "stream",
     "text": [
      "Downloading diffusiondb-filtered-0-40000.zip to /home/dxlab/jupyter/byungwoo/kaggle\n",
      "100%|███████████████████████████████████▉| 16.6G/16.6G [1:46:45<00:00, 7.60MB/s]\n",
      "100%|████████████████████████████████████| 16.6G/16.6G [1:46:45<00:00, 2.79MB/s]\n"
     ]
    }
   ],
   "source": [
    "\n",
    "import os\n",
    "\n",
    "os.environ[\"KAGGLE_USERNAME\"] = 'bb1702'\n",
    "os.environ[\"KAGGLE_KEY\"] = \"5ef0baa0873f6bb6e7b25a8e368afea6\"\n",
    "\n",
    "!kaggle datasets download -d jeinsong/diffusiondb-filtered-0-40000\n",
    "\n",
    "os.environ[\"KAGGLE_USERNAME\"] = ''\n",
    "os.environ[\"KAGGLE_KEY\"] = \"\""
   ]
  },
  {
   "cell_type": "code",
   "execution_count": null,
   "metadata": {},
   "outputs": [],
   "source": [
    "\n",
    "import os\n",
    "\n",
    "os.environ[\"KAGGLE_USERNAME\"] = 'bb1702'\n",
    "os.environ[\"KAGGLE_KEY\"] = \"5ef0baa0873f6bb6e7b25a8e368afea6\"\n",
    "\n",
    "!kaggle datasets download -d jeinsong/diffusiondb-filtered-40001-80000\n",
    "\n",
    "os.environ[\"KAGGLE_USERNAME\"] = ''\n",
    "os.environ[\"KAGGLE_KEY\"] = \"\""
   ]
  },
  {
   "cell_type": "code",
   "execution_count": null,
   "metadata": {},
   "outputs": [],
   "source": [
    "\n",
    "import os\n",
    "\n",
    "os.environ[\"KAGGLE_USERNAME\"] = 'bb1702'\n",
    "os.environ[\"KAGGLE_KEY\"] = \"5ef0baa0873f6bb6e7b25a8e368afea6\"\n",
    "\n",
    "!kaggle datasets download -d jeinsong/diffusiondb-filtered-80001-120000\n",
    "\n",
    "os.environ[\"KAGGLE_USERNAME\"] = ''\n",
    "os.environ[\"KAGGLE_KEY\"] = \"\""
   ]
  },
  {
   "cell_type": "code",
   "execution_count": null,
   "metadata": {},
   "outputs": [],
   "source": [
    "\n",
    "import os\n",
    "\n",
    "os.environ[\"KAGGLE_USERNAME\"] = 'bb1702'\n",
    "os.environ[\"KAGGLE_KEY\"] = \"5ef0baa0873f6bb6e7b25a8e368afea6\"\n",
    "\n",
    "!kaggle datasets download -d jeinsong/diffusiondb-filtered-120001-154320\n",
    "\n",
    "os.environ[\"KAGGLE_USERNAME\"] = ''\n",
    "os.environ[\"KAGGLE_KEY\"] = \"\""
   ]
  }
 ],
 "metadata": {
  "kernelspec": {
   "display_name": "bw_anvy_py37",
   "language": "python",
   "name": "bw"
  },
  "language_info": {
   "codemirror_mode": {
    "name": "ipython",
    "version": 3
   },
   "file_extension": ".py",
   "mimetype": "text/x-python",
   "name": "python",
   "nbconvert_exporter": "python",
   "pygments_lexer": "ipython3",
   "version": "3.7.16"
  },
  "orig_nbformat": 4
 },
 "nbformat": 4,
 "nbformat_minor": 2
}
